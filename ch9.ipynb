{
 "cells": [
  {
   "cell_type": "code",
   "execution_count": 6,
   "id": "816369bd",
   "metadata": {},
   "outputs": [
    {
     "name": "stdout",
     "output_type": "stream",
     "text": [
      "False\n",
      "True\n"
     ]
    }
   ],
   "source": [
    "#Question_1\n",
    "def binary_search(item_list,item):\n",
    "    first = 0\n",
    "    last = len(item_list)-1\n",
    "    found = False\n",
    "    while( first<=last and not found):\n",
    "        mid = (first + last)//2\n",
    "        if item_list[mid] == item :\n",
    "            found = True\n",
    "        else:\n",
    "            if item < item_list[mid]:\n",
    "                last = mid - 1\n",
    "            else:\n",
    "                first = mid + 1\n",
    "    return found\n",
    "\n",
    "print(binary_search([1,2,3,5,8], 6))\n",
    "print(binary_search([1,2,3,5,8], 5))"
   ]
  },
  {
   "cell_type": "code",
   "execution_count": 5,
   "id": "bb4f7f5d",
   "metadata": {},
   "outputs": [
    {
     "name": "stdout",
     "output_type": "stream",
     "text": [
      "81\n"
     ]
    }
   ],
   "source": [
    "#Question_2\n",
    "def power(a,b):\n",
    "    if b==0:\n",
    "        return 1\n",
    "    elif a==0:\n",
    "        return 0\n",
    "    elif b==1:\n",
    "        return a\n",
    "    else:\n",
    "        return a*power(a,b-1)\n",
    "\n",
    "print(power(3,4))"
   ]
  },
  {
   "cell_type": "code",
   "execution_count": null,
   "id": "2ec94e93",
   "metadata": {},
   "outputs": [],
   "source": [
    "#Question_3\n"
   ]
  },
  {
   "cell_type": "code",
   "execution_count": 4,
   "id": "6399162c",
   "metadata": {},
   "outputs": [
    {
     "name": "stdout",
     "output_type": "stream",
     "text": [
      "Splitting  [29, 13, 22, 37, 52, 49, 46, 71, 56]\n",
      "Splitting  [29, 13, 22, 37]\n",
      "Splitting  [29, 13]\n",
      "Splitting  [29]\n",
      "Merging  [29]\n",
      "Splitting  [13]\n",
      "Merging  [13]\n",
      "Merging  [13, 29]\n",
      "Splitting  [22, 37]\n",
      "Splitting  [22]\n",
      "Merging  [22]\n",
      "Splitting  [37]\n",
      "Merging  [37]\n",
      "Merging  [22, 37]\n",
      "Merging  [13, 22, 29, 37]\n",
      "Splitting  [52, 49, 46, 71, 56]\n",
      "Splitting  [52, 49]\n",
      "Splitting  [52]\n",
      "Merging  [52]\n",
      "Splitting  [49]\n",
      "Merging  [49]\n",
      "Merging  [49, 52]\n",
      "Splitting  [46, 71, 56]\n",
      "Splitting  [46]\n",
      "Merging  [46]\n",
      "Splitting  [71, 56]\n",
      "Splitting  [71]\n",
      "Merging  [71]\n",
      "Splitting  [56]\n",
      "Merging  [56]\n",
      "Merging  [56, 71]\n",
      "Merging  [46, 56, 71]\n",
      "Merging  [46, 49, 52, 56, 71]\n",
      "Merging  [13, 22, 29, 37, 46, 49, 52, 56, 71]\n",
      "[13, 22, 29, 37, 46, 49, 52, 56, 71]\n"
     ]
    }
   ],
   "source": [
    "#Question_4\n",
    "def mergeSort(nlist):\n",
    "    print(\"Splitting \",nlist)\n",
    "    if len(nlist)>1:\n",
    "        mid = len(nlist)//2\n",
    "        lefthalf = nlist[:mid]\n",
    "        righthalf = nlist[mid:]\n",
    "\n",
    "        mergeSort(lefthalf)\n",
    "        mergeSort(righthalf)\n",
    "        i=j=k=0       \n",
    "        while i < len(lefthalf) and j < len(righthalf):\n",
    "            if lefthalf[i] < righthalf[j]:\n",
    "                nlist[k]=lefthalf[i]\n",
    "                i=i+1\n",
    "            else:\n",
    "                nlist[k]=righthalf[j]\n",
    "                j=j+1\n",
    "            k=k+1\n",
    "\n",
    "        while i < len(lefthalf):\n",
    "            nlist[k]=lefthalf[i]\n",
    "            i=i+1\n",
    "            k=k+1\n",
    "\n",
    "        while j < len(righthalf):\n",
    "            nlist[k]=righthalf[j]\n",
    "            j=j+1\n",
    "            k=k+1\n",
    "    print(\"Merging \",nlist)\n",
    "\n",
    "nlist = [29,13,22,37,52,49,46,71,56]\n",
    "mergeSort(nlist)\n",
    "print(nlist)"
   ]
  },
  {
   "cell_type": "code",
   "execution_count": 3,
   "id": "4dacf47f",
   "metadata": {},
   "outputs": [
    {
     "name": "stdout",
     "output_type": "stream",
     "text": [
      "[13, 22, 29, 37, 46, 49, 52, 56, 71]\n"
     ]
    }
   ],
   "source": [
    "#Question_5\n",
    "def quickSort(alist):\n",
    "   quickSortHelper(alist,0,len(alist)-1)\n",
    "\n",
    "def quickSortHelper(alist,first,last):\n",
    "   if first<last:\n",
    "\n",
    "       splitpoint = partition(alist,first,last)\n",
    "\n",
    "       quickSortHelper(alist,first,splitpoint-1)\n",
    "       quickSortHelper(alist,splitpoint+1,last)\n",
    "\n",
    "\n",
    "def partition(alist,first,last):\n",
    "   pivotvalue = alist[first]\n",
    "\n",
    "   leftmark = first+1\n",
    "   rightmark = last\n",
    "\n",
    "   done = False\n",
    "   while not done:\n",
    "\n",
    "       while leftmark <= rightmark and alist[leftmark] <= pivotvalue:\n",
    "           leftmark = leftmark + 1\n",
    "\n",
    "       while alist[rightmark] >= pivotvalue and rightmark >= leftmark:\n",
    "           rightmark = rightmark -1\n",
    "\n",
    "       if rightmark < leftmark:\n",
    "           done = True\n",
    "       else:\n",
    "           temp = alist[leftmark]\n",
    "           alist[leftmark] = alist[rightmark]\n",
    "           alist[rightmark] = temp\n",
    "\n",
    "   temp = alist[first]\n",
    "   alist[first] = alist[rightmark]\n",
    "   alist[rightmark] = temp\n",
    "\n",
    "\n",
    "   return rightmark\n",
    "\n",
    "alist = [29,13,22,37,52,49,46,71,56]\n",
    "quickSort(alist)\n",
    "print(alist)"
   ]
  },
  {
   "cell_type": "code",
   "execution_count": null,
   "id": "f25d8ab3",
   "metadata": {},
   "outputs": [],
   "source": []
  }
 ],
 "metadata": {
  "kernelspec": {
   "display_name": "Python 3",
   "language": "python",
   "name": "python3"
  },
  "language_info": {
   "codemirror_mode": {
    "name": "ipython",
    "version": 3
   },
   "file_extension": ".py",
   "mimetype": "text/x-python",
   "name": "python",
   "nbconvert_exporter": "python",
   "pygments_lexer": "ipython3",
   "version": "3.8.8"
  }
 },
 "nbformat": 4,
 "nbformat_minor": 5
}
