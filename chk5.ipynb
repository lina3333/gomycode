{
 "cells": [
  {
   "cell_type": "code",
   "execution_count": 7,
   "id": "dc17d133",
   "metadata": {},
   "outputs": [
    {
     "name": "stdout",
     "output_type": "stream",
     "text": [
      "(1, 2, 3)\n"
     ]
    }
   ],
   "source": [
    "#Question_1\n",
    "class point3D:\n",
    "    def __init__(self,x, y, z):\n",
    "        self.x = x\n",
    "        self.y = y\n",
    "        self.z = z\n",
    "    def fct1 (self):\n",
    "        return(self.x, self.y, self.z)\n",
    "my_point = point3D (1,2,3)\n",
    "print(my_point.fct1())"
   ]
  },
  {
   "cell_type": "code",
   "execution_count": 9,
   "id": "8f2a7f14",
   "metadata": {},
   "outputs": [
    {
     "ename": "SyntaxError",
     "evalue": "invalid syntax (<ipython-input-9-0589c3d9bef8>, line 3)",
     "output_type": "error",
     "traceback": [
      "\u001b[1;36m  File \u001b[1;32m\"<ipython-input-9-0589c3d9bef8>\"\u001b[1;36m, line \u001b[1;32m3\u001b[0m\n\u001b[1;33m    def __init__ (self,1,w):\u001b[0m\n\u001b[1;37m                       ^\u001b[0m\n\u001b[1;31mSyntaxError\u001b[0m\u001b[1;31m:\u001b[0m invalid syntax\n"
     ]
    }
   ],
   "source": [
    "#Question_2\n",
    "class Rectangle:\n",
    "    def __init__(self,1,w):\n",
    "        self.length=1\n",
    "        self.width=\n",
    "    def area(self):\n",
    "        return (self.length*self.width)\n",
    "    def perimeter(self):\n",
    "        return (2*(self.length+self.width))\n",
    "my_rectangle_Rectangle(4,3)\n",
    "print(\"thearea is\",my_rectangle.area(),\n",
    "      \"and the orinter is \",my_rectangle.perimeter())"
   ]
  },
  {
   "cell_type": "code",
   "execution_count": 13,
   "id": "5f08a1f2",
   "metadata": {},
   "outputs": [
    {
     "ename": "NameError",
     "evalue": "name 'Circle' is not defined",
     "output_type": "error",
     "traceback": [
      "\u001b[1;31m---------------------------------------------------------------------------\u001b[0m",
      "\u001b[1;31mNameError\u001b[0m                                 Traceback (most recent call last)",
      "\u001b[1;32m<ipython-input-13-165d0c860215>\u001b[0m in \u001b[0;36m<module>\u001b[1;34m\u001b[0m\n\u001b[0;32m     14\u001b[0m         \u001b[1;32melse\u001b[0m\u001b[1;33m:\u001b[0m\u001b[1;33m\u001b[0m\u001b[1;33m\u001b[0m\u001b[0m\n\u001b[0;32m     15\u001b[0m             \u001b[0mprint\u001b[0m \u001b[1;33m(\u001b[0m\u001b[1;34m\"your point do not belong to the circle \"\u001b[0m\u001b[1;33m)\u001b[0m\u001b[1;33m\u001b[0m\u001b[1;33m\u001b[0m\u001b[0m\n\u001b[1;32m---> 16\u001b[1;33m \u001b[0mcircle1\u001b[0m \u001b[1;33m=\u001b[0m \u001b[0mCircle\u001b[0m\u001b[1;33m(\u001b[0m\u001b[1;34m\"O\"\u001b[0m\u001b[1;33m,\u001b[0m \u001b[1;36m5\u001b[0m\u001b[1;33m)\u001b[0m\u001b[1;33m\u001b[0m\u001b[1;33m\u001b[0m\u001b[0m\n\u001b[0m\u001b[0;32m     17\u001b[0m \u001b[0mcircle1\u001b[0m\u001b[1;33m.\u001b[0m\u001b[0misInside\u001b[0m\u001b[1;33m(\u001b[0m\u001b[1;36m5\u001b[0m\u001b[1;33m,\u001b[0m\u001b[1;36m4\u001b[0m\u001b[1;33m)\u001b[0m\u001b[1;33m\u001b[0m\u001b[1;33m\u001b[0m\u001b[0m\n",
      "\u001b[1;31mNameError\u001b[0m: name 'Circle' is not defined"
     ]
    }
   ],
   "source": [
    "#Question_3\n",
    "import math\n",
    "class circle:\n",
    "    def __int__(self,O,r):\n",
    "        self.center=O\n",
    "        self.radius=r\n",
    "    def area(self):\n",
    "        return(math.pi * (self.radius**2))\n",
    "    def primeter(self):\n",
    "        return(math.pi * srlf.radius * 2)\n",
    "    def istndide(self,x,y):\n",
    "        if x == self.radius and y == self.radius:\n",
    "            print (\"your point belongs to the circle \")\n",
    "        else:\n",
    "            print (\"your point do not belong to the circle \")\n",
    "circle1 = Circle(\"O\", 5)\n",
    "circle1.isInside(5,4)"
   ]
  },
  {
   "cell_type": "code",
   "execution_count": null,
   "id": "91bcc39d",
   "metadata": {},
   "outputs": [],
   "source": [
    "#Question_4\n",
    "class Bank:\n",
    "    def __init__(self,b):\n",
    "        self.balance=b\n",
    "    def deposit(self):\n",
    "        amount = float(input(\"enter the amount of demosit\"))\n",
    "        self.balance = self.balance + amount\n",
    "    def withdraw(self):\n",
    "        amount = float(input(\"Enter the amount of withdraw\"))\n",
    "        if self.balance >= amount:\n",
    "            self.balance = self.balance - amount\n",
    "            print(\"the remainingbamount is\", self.balance)\n",
    "        else:\n",
    "            print(\"Insufficient balance\")\n",
    "exp = Bank (5800)\n",
    "exp.deposit()\n",
    "exp.withdraw()\n",
    "\n"
   ]
  },
  {
   "cell_type": "code",
   "execution_count": null,
   "id": "4ad8b9c9",
   "metadata": {},
   "outputs": [],
   "source": []
  }
 ],
 "metadata": {
  "kernelspec": {
   "display_name": "Python 3",
   "language": "python",
   "name": "python3"
  },
  "language_info": {
   "codemirror_mode": {
    "name": "ipython",
    "version": 3
   },
   "file_extension": ".py",
   "mimetype": "text/x-python",
   "name": "python",
   "nbconvert_exporter": "python",
   "pygments_lexer": "ipython3",
   "version": "3.8.8"
  }
 },
 "nbformat": 4,
 "nbformat_minor": 5
}
