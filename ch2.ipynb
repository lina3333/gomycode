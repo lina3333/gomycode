{
 "cells": [
  {
   "cell_type": "code",
   "execution_count": 2,
   "id": "048f5436",
   "metadata": {},
   "outputs": [
    {
     "name": "stdout",
     "output_type": "stream",
     "text": [
      "enter your first namelina\n",
      "enter your last namemejbri\n",
      "mejbri lina\n"
     ]
    }
   ],
   "source": [
    "#Question_1\n",
    "\n",
    "str1 =input(\"enter your first name\")\n",
    "str2 =input(\"enter your last name\")\n",
    "print(str2+\" \"+str1)\n"
   ]
  },
  {
   "cell_type": "code",
   "execution_count": 7,
   "id": "c66c60f6",
   "metadata": {},
   "outputs": [
    {
     "name": "stdout",
     "output_type": "stream",
     "text": [
      "enter a number n7\n",
      "861 (7+77+777)\n"
     ]
    }
   ],
   "source": [
    "#Question_2\n",
    "str1 = x =input(\"enter a number n\")\n",
    "str5= y =x+x\n",
    "str6= z =x+x+x\n",
    "x=int(x)\n",
    "y=int(y)\n",
    "z=int(z)\n",
    "str2 =\"+\"\n",
    "str3 =\"(\"\n",
    "str4 =\")\"\n",
    "print(x+z+y ,str3+str1+str2+str1+str1+str2+str1+str1+str1+str4)\n"
   ]
  },
  {
   "cell_type": "code",
   "execution_count": 23,
   "id": "4421203e",
   "metadata": {},
   "outputs": [
    {
     "name": "stdout",
     "output_type": "stream",
     "text": [
      "Enter a number: 6\n",
      "6 is Even number\n"
     ]
    }
   ],
   "source": [
    "#QUESTION_3\n",
    "num = int(input(\"Enter a number: \"))\n",
    "if (num % 2) == 0:\n",
    "   print(\"{0} is Even number\". format(num))\n",
    "else:\n",
    "   print(\"{0} is Odd number\". format(num))\n",
    "       \n"
   ]
  },
  {
   "cell_type": "code",
   "execution_count": 33,
   "id": "bd5b63db",
   "metadata": {},
   "outputs": [
    {
     "name": "stdout",
     "output_type": "stream",
     "text": [
      "2030,2065,2100,2135,2170,2205,2240,2275,2310,2345,2380,2415,2450,2485,2520,2555,2590,2625,2660,2695,2730,2765,2800,2835,2870,2905,2940,2975,3010,3045,3080,3115,3150,3185\n"
     ]
    }
   ],
   "source": [
    "#Question_4\n",
    "nl=[]\n",
    "for x in range(2000,3200):\n",
    "    if (x%7==0) and (x%5==0):\n",
    "        nl.append(str(x))\n",
    "print (','.join(nl))"
   ]
  },
  {
   "cell_type": "code",
   "execution_count": 34,
   "id": "36733fad",
   "metadata": {},
   "outputs": [
    {
     "name": "stdout",
     "output_type": "stream",
     "text": [
      "Input a number to compute the factiorial : 0\n",
      "1\n"
     ]
    }
   ],
   "source": [
    "#Question_5\n",
    "def factorial(n):\n",
    "    if n == 0:\n",
    "        return 1\n",
    "    else:\n",
    "        return n * factorial(n-1)\n",
    "n=int(input(\"Input a number to compute the factiorial : \"))\n",
    "print(factorial(n))\n"
   ]
  },
  {
   "cell_type": "code",
   "execution_count": null,
   "id": "9a3a7545",
   "metadata": {},
   "outputs": [],
   "source": [
    "#Question_6\n",
    "ch=input()\n",
    "for i in range (len(ch))\n",
    "print i==%2\n",
    "del i\n",
    "\n",
    "\n"
   ]
  },
  {
   "cell_type": "code",
   "execution_count": null,
   "id": "4a0fff0b",
   "metadata": {},
   "outputs": [],
   "source": [
    "#Question_7\n",
    "x =input(\"enter the price\")\n",
    "x=int(x)\n",
    "str1=\"there will be a 50% discount\"\n",
    "str2=\"there will be a 30% discount\"\n",
    "str3=\"there will be a 10% discount\"\n",
    "if x>500:\n",
    "    print(str1)\n",
    "elif 500>x>200:\n",
    "    print(str2)\n",
    "else:\n",
    "    print(str3)"
   ]
  },
  {
   "cell_type": "code",
   "execution_count": null,
   "id": "6bb1f932",
   "metadata": {},
   "outputs": [],
   "source": []
  },
  {
   "cell_type": "code",
   "execution_count": null,
   "id": "b25dbb1b",
   "metadata": {},
   "outputs": [],
   "source": []
  }
 ],
 "metadata": {
  "kernelspec": {
   "display_name": "Python 3",
   "language": "python",
   "name": "python3"
  },
  "language_info": {
   "codemirror_mode": {
    "name": "ipython",
    "version": 3
   },
   "file_extension": ".py",
   "mimetype": "text/x-python",
   "name": "python",
   "nbconvert_exporter": "python",
   "pygments_lexer": "ipython3",
   "version": "3.8.8"
  }
 },
 "nbformat": 4,
 "nbformat_minor": 5
}
